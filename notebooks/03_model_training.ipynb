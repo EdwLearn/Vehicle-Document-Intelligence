{
 "cells": [
  {
   "cell_type": "markdown",
   "metadata": {},
   "source": [
    "# 03_model_training.ipynb - CNN Vehicle Document Classifier\n",
    "\n",
    "## Objetivo\n",
    "Entrenar un modelo CNN para clasificación de documentos vehiculares (licence/odometer/document) con >80% accuracy.\n",
    "\n",
    "## Estado del Proyecto\n",
    "- ✅ Dataset balanceado: 729 muestras, 3 clases\n",
    "- ✅ Preprocesamiento completo con OpenCV\n",
    "- ✅ Splits train/val/test listos\n",
    "- 🎯 Objetivo: Modelo CNN con TensorFlow/Keras"
   ]
  },
  {
   "cell_type": "markdown",
   "metadata": {},
   "source": [
    "## 1. Setup and Imports"
   ]
  },
  {
   "cell_type": "code",
   "execution_count": 1,
   "metadata": {},
   "outputs": [
    {
     "name": "stdout",
     "output_type": "stream",
     "text": [
      "TensorFlow version: 2.13.0\n",
      "Running on: CPU\n",
      "Number of CPU threads: 0\n"
     ]
    },
    {
     "name": "stderr",
     "output_type": "stream",
     "text": [
      "2025-07-05 14:58:14.870889: E tensorflow/compiler/xla/stream_executor/cuda/cuda_driver.cc:268] failed call to cuInit: CUDA_ERROR_NO_DEVICE: no CUDA-capable device is detected\n"
     ]
    }
   ],
   "source": [
    "# 1. Setup and Imports (Optimizado para CPU)\n",
    "\n",
    "# Suprimir warnings de TensorFlow\n",
    "import os\n",
    "os.environ['TF_CPP_MIN_LOG_LEVEL'] = '2'  # Suprime warnings de TF\n",
    "os.environ['CUDA_VISIBLE_DEVICES'] = '-1'  # Fuerza uso de CPU\n",
    "\n",
    "# System imports\n",
    "import json\n",
    "import random\n",
    "from datetime import datetime\n",
    "from pathlib import Path\n",
    "import warnings\n",
    "warnings.filterwarnings('ignore')\n",
    "\n",
    "# Data manipulation\n",
    "import numpy as np\n",
    "import pandas as pd\n",
    "\n",
    "# Visualization\n",
    "import matplotlib.pyplot as plt\n",
    "import seaborn as sns\n",
    "from PIL import Image\n",
    "\n",
    "# Deep Learning\n",
    "import tensorflow as tf\n",
    "from tensorflow import keras\n",
    "from tensorflow.keras import layers, models, callbacks\n",
    "from tensorflow.keras.preprocessing.image import ImageDataGenerator\n",
    "from tensorflow.keras.applications import MobileNetV2  # Más ligero para CPU\n",
    "from tensorflow.keras.optimizers import Adam\n",
    "from tensorflow.keras.losses import SparseCategoricalCrossentropy\n",
    "from tensorflow.keras.metrics import SparseCategoricalAccuracy\n",
    "\n",
    "# Model evaluation\n",
    "from sklearn.metrics import classification_report, confusion_matrix\n",
    "from sklearn.metrics import precision_recall_fscore_support\n",
    "\n",
    "# MLOps and utilities\n",
    "import mlflow\n",
    "import mlflow.tensorflow\n",
    "from tqdm import tqdm\n",
    "\n",
    "# Configurar TensorFlow para CPU\n",
    "tf.config.set_visible_devices([], 'GPU')\n",
    "\n",
    "# Set random seeds for reproducibility\n",
    "SEED = 42\n",
    "random.seed(SEED)\n",
    "np.random.seed(SEED)\n",
    "tf.random.set_seed(SEED)\n",
    "\n",
    "print(f\"TensorFlow version: {tf.__version__}\")\n",
    "print(f\"Running on: CPU\")\n",
    "print(f\"Number of CPU threads: {tf.config.threading.get_intra_op_parallelism_threads()}\")"
   ]
  },
  {
   "cell_type": "code",
   "execution_count": 2,
   "metadata": {},
   "outputs": [
    {
     "name": "stdout",
     "output_type": "stream",
     "text": [
      "Configuration loaded successfully!\n",
      "Image size: (160, 160)\n",
      "Batch size: 16 (optimized for CPU)\n"
     ]
    }
   ],
   "source": [
    "# 2. Configuration and Constants (Optimizado para CPU)\n",
    "\n",
    "# Project paths\n",
    "BASE_DIR = Path.cwd().parent\n",
    "DATA_DIR = BASE_DIR / \"data\" / \"processed\" / \"car_plates\"\n",
    "ANNOTATIONS_DIR = DATA_DIR / \"annotations\"\n",
    "IMAGES_DIR = DATA_DIR / \"images_rois\"\n",
    "MODELS_DIR = BASE_DIR / \"models\"\n",
    "LOGS_DIR = BASE_DIR / \"logs\"\n",
    "\n",
    "# Create directories if they don't exist\n",
    "MODELS_DIR.mkdir(exist_ok=True, parents=True)\n",
    "LOGS_DIR.mkdir(exist_ok=True, parents=True)\n",
    "\n",
    "# Model configuration optimizada para CPU\n",
    "CONFIG = {\n",
    "    # Data\n",
    "    'image_size': (160, 160),  # Tamaño reducido para CPU\n",
    "    'num_classes': 3,\n",
    "    'class_names': ['document', 'licence', 'odometer'],\n",
    "    \n",
    "    # Training - Ajustado para CPU\n",
    "    'batch_size': 16,  # Batch más pequeño para CPU\n",
    "    'epochs': 30,  # Menos epochs inicialmente\n",
    "    'learning_rate': 1e-3,\n",
    "    'early_stopping_patience': 7,\n",
    "    'reduce_lr_patience': 3,\n",
    "    \n",
    "    # Augmentation (más ligero)\n",
    "    'rotation_range': 10,\n",
    "    'width_shift_range': 0.1,\n",
    "    'height_shift_range': 0.1,\n",
    "    'zoom_range': 0.05,\n",
    "    'horizontal_flip': False,\n",
    "    \n",
    "    # Model architecture\n",
    "    'dropout_rate': 0.4,  # Más dropout para dataset pequeño\n",
    "    'l2_regularization': 1e-4,\n",
    "    \n",
    "    # MLOps\n",
    "    'experiment_name': 'vehicle_doc_classifier_cpu',\n",
    "    'run_name': f\"cnn_cpu_{datetime.now().strftime('%Y%m%d_%H%M%S')}\",\n",
    "}\n",
    "\n",
    "print(\"Configuration loaded successfully!\")\n",
    "print(f\"Image size: {CONFIG['image_size']}\")\n",
    "print(f\"Batch size: {CONFIG['batch_size']} (optimized for CPU)\")\n"
   ]
  },
  {
   "cell_type": "code",
   "execution_count": 3,
   "metadata": {},
   "outputs": [],
   "source": [
    "# 3. Arquitectura de modelo ligera para CPU\n",
    "\n",
    "def create_lightweight_cnn_model(input_shape=(160, 160, 3), num_classes=3):\n",
    "    \"\"\"\n",
    "    Modelo CNN ligero optimizado para CPU y dataset pequeño\n",
    "    Usa MobileNetV2 que es más eficiente en CPU\n",
    "    \"\"\"\n",
    "    \n",
    "    # Base model - MobileNetV2 es más eficiente en CPU\n",
    "    base_model = MobileNetV2(\n",
    "        input_shape=input_shape,\n",
    "        include_top=False,\n",
    "        weights='imagenet',\n",
    "        alpha=0.75  # Versión más ligera\n",
    "    )\n",
    "    \n",
    "    # Congelar solo las primeras capas (fine-tuning más agresivo para dataset pequeño)\n",
    "    for layer in base_model.layers[:-30]:\n",
    "        layer.trainable = False\n",
    "    \n",
    "    # Build the model\n",
    "    inputs = keras.Input(shape=input_shape)\n",
    "    \n",
    "    # Preprocessing\n",
    "    x = keras.applications.mobilenet_v2.preprocess_input(inputs)\n",
    "    \n",
    "    # Base model\n",
    "    x = base_model(x, training=False)\n",
    "    \n",
    "    # Custom top layers (más simples para CPU)\n",
    "    x = layers.GlobalAveragePooling2D()(x)\n",
    "    x = layers.Dense(128, activation='relu',\n",
    "                     kernel_regularizer=keras.regularizers.l2(CONFIG['l2_regularization']))(x)\n",
    "    x = layers.BatchNormalization()(x)\n",
    "    x = layers.Dropout(CONFIG['dropout_rate'])(x)\n",
    "    \n",
    "    # Output layer\n",
    "    outputs = layers.Dense(num_classes, activation='softmax')(x)\n",
    "    \n",
    "    model = keras.Model(inputs, outputs)\n",
    "    \n",
    "    return model, base_model"
   ]
  },
  {
   "cell_type": "code",
   "execution_count": 5,
   "metadata": {},
   "outputs": [
    {
     "name": "stdout",
     "output_type": "stream",
     "text": [
      "✓ TensorFlow optimizado para CPU\n",
      "✓ Cores disponibles: 4\n"
     ]
    }
   ],
   "source": [
    "# Optimizaciones adicionales para CPU\n",
    "def optimize_tensorflow_for_cpu():\n",
    "    \"\"\"Configuraciones para mejorar rendimiento en CPU\"\"\"\n",
    "    \n",
    "    # Configurar paralelismo\n",
    "    tf.config.threading.set_intra_op_parallelism_threads(4)  # Usa todos los cores\n",
    "    tf.config.threading.set_inter_op_parallelism_threads(4)  # Usa todos los cores\n",
    "    \n",
    "    # Habilitar XLA para optimización\n",
    "    tf.config.optimizer.set_jit(True)\n",
    "    \n",
    "    print(\"✓ TensorFlow optimizado para CPU\")\n",
    "    print(f\"✓ Cores disponibles: {os.cpu_count()}\")\n",
    "\n",
    "optimize_tensorflow_for_cpu()"
   ]
  },
  {
   "cell_type": "code",
   "execution_count": null,
   "metadata": {},
   "outputs": [],
   "source": []
  }
 ],
 "metadata": {
  "kernelspec": {
   "display_name": "Python 3 (ipykernel)",
   "language": "python",
   "name": "python3"
  },
  "language_info": {
   "codemirror_mode": {
    "name": "ipython",
    "version": 3
   },
   "file_extension": ".py",
   "mimetype": "text/x-python",
   "name": "python",
   "nbconvert_exporter": "python",
   "pygments_lexer": "ipython3",
   "version": "3.10.12"
  }
 },
 "nbformat": 4,
 "nbformat_minor": 4
}
